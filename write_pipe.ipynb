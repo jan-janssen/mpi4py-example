{
 "cells": [
  {
   "cell_type": "markdown",
   "metadata": {},
   "source": [
    "https://www.imagetracking.org.uk/2018/03/piping-numpy-arrays-to-other-processes-in-python/"
   ]
  },
  {
   "cell_type": "code",
   "execution_count": 1,
   "metadata": {
    "ExecuteTime": {
     "end_time": "2020-02-08T12:35:56.465812Z",
     "start_time": "2020-02-08T12:35:56.462778Z"
    }
   },
   "outputs": [],
   "source": [
    "import os"
   ]
  },
  {
   "cell_type": "code",
   "execution_count": 2,
   "metadata": {
    "ExecuteTime": {
     "end_time": "2020-02-08T12:35:56.475620Z",
     "start_time": "2020-02-08T12:35:56.467167Z"
    }
   },
   "outputs": [],
   "source": [
    "import subprocess"
   ]
  },
  {
   "cell_type": "code",
   "execution_count": 3,
   "metadata": {
    "ExecuteTime": {
     "end_time": "2020-02-08T12:35:56.692301Z",
     "start_time": "2020-02-08T12:35:56.476897Z"
    }
   },
   "outputs": [],
   "source": [
    "import numpy as np"
   ]
  },
  {
   "cell_type": "code",
   "execution_count": 4,
   "metadata": {
    "ExecuteTime": {
     "end_time": "2020-02-08T12:35:56.695334Z",
     "start_time": "2020-02-08T12:35:56.693514Z"
    }
   },
   "outputs": [],
   "source": [
    "import pickle"
   ]
  },
  {
   "cell_type": "code",
   "execution_count": 5,
   "metadata": {
    "ExecuteTime": {
     "end_time": "2020-02-08T12:35:56.703304Z",
     "start_time": "2020-02-08T12:35:56.696330Z"
    }
   },
   "outputs": [],
   "source": [
    "lmp_py_str = \"\"\"import numpy as np\n",
    "from mpi4py import MPI\n",
    "import pickle\n",
    "import sys\n",
    "\n",
    "\n",
    "if MPI.COMM_WORLD.rank == 0:\n",
    "    data = sys.stdin.buffer.read(8)\n",
    "    dlen = int.from_bytes(data, byteorder='big')\n",
    "    data = pickle.loads(sys.stdin.buffer.read(dlen))\n",
    "else:\n",
    "    data = None\n",
    "\n",
    "data = MPI.COMM_WORLD.bcast(data, root=0)\n",
    "\n",
    "if MPI.COMM_WORLD.rank == 1:\n",
    "    print(len(data))\n",
    "    \n",
    "MPI.COMM_WORLD.Barrier()\n",
    "MPI.Finalize()\n",
    "\"\"\""
   ]
  },
  {
   "cell_type": "code",
   "execution_count": 6,
   "metadata": {
    "ExecuteTime": {
     "end_time": "2020-02-08T12:35:56.710572Z",
     "start_time": "2020-02-08T12:35:56.704299Z"
    }
   },
   "outputs": [],
   "source": [
    "with open('pipe.py', 'w') as f:\n",
    "    f.writelines(lmp_py_str)"
   ]
  },
  {
   "cell_type": "code",
   "execution_count": 7,
   "metadata": {
    "ExecuteTime": {
     "end_time": "2020-02-08T12:35:56.725669Z",
     "start_time": "2020-02-08T12:35:56.712102Z"
    }
   },
   "outputs": [],
   "source": [
    "process = subprocess.Popen(\n",
    "    [\"mpiexec\", \"-n\", \"2\", \"python\", \"pipe.py\"],\n",
    "    stdout=subprocess.PIPE,\n",
    "    stderr=subprocess.PIPE,\n",
    "    stdin=subprocess.PIPE,\n",
    "    bufsize=1,\n",
    ")"
   ]
  },
  {
   "cell_type": "code",
   "execution_count": 8,
   "metadata": {
    "ExecuteTime": {
     "end_time": "2020-02-08T12:35:56.729279Z",
     "start_time": "2020-02-08T12:35:56.727184Z"
    }
   },
   "outputs": [],
   "source": [
    "data = np.random.random(8171)"
   ]
  },
  {
   "cell_type": "code",
   "execution_count": 9,
   "metadata": {
    "ExecuteTime": {
     "end_time": "2020-02-08T12:35:56.736876Z",
     "start_time": "2020-02-08T12:35:56.730347Z"
    }
   },
   "outputs": [],
   "source": [
    "data = np.random.random(8172) "
   ]
  },
  {
   "cell_type": "code",
   "execution_count": 10,
   "metadata": {
    "ExecuteTime": {
     "end_time": "2020-02-08T12:35:56.746380Z",
     "start_time": "2020-02-08T12:35:56.738341Z"
    }
   },
   "outputs": [],
   "source": [
    "data = pickle.dumps(data)"
   ]
  },
  {
   "cell_type": "code",
   "execution_count": 11,
   "metadata": {
    "ExecuteTime": {
     "end_time": "2020-02-08T12:35:56.753911Z",
     "start_time": "2020-02-08T12:35:56.747419Z"
    }
   },
   "outputs": [],
   "source": [
    "data_len = len(data).to_bytes(8, byteorder='big')\n",
    "process.stdin.write(data_len)\n",
    "process.stdin.write(data)\n",
    "process.stdin.flush()"
   ]
  },
  {
   "cell_type": "code",
   "execution_count": 12,
   "metadata": {
    "ExecuteTime": {
     "end_time": "2020-02-08T12:35:56.765826Z",
     "start_time": "2020-02-08T12:35:56.754958Z"
    }
   },
   "outputs": [
    {
     "data": {
      "text/plain": [
       "b''"
      ]
     },
     "execution_count": 12,
     "metadata": {},
     "output_type": "execute_result"
    }
   ],
   "source": [
    "process.stdout.read()"
   ]
  },
  {
   "cell_type": "code",
   "execution_count": null,
   "metadata": {},
   "outputs": [],
   "source": []
  }
 ],
 "metadata": {
  "kernelspec": {
   "display_name": "Python 3",
   "language": "python",
   "name": "python3"
  },
  "language_info": {
   "codemirror_mode": {
    "name": "ipython",
    "version": 3
   },
   "file_extension": ".py",
   "mimetype": "text/x-python",
   "name": "python",
   "nbconvert_exporter": "python",
   "pygments_lexer": "ipython3",
   "version": "3.7.6"
  },
  "toc": {
   "base_numbering": 1,
   "nav_menu": {},
   "number_sections": true,
   "sideBar": true,
   "skip_h1_title": false,
   "title_cell": "Table of Contents",
   "title_sidebar": "Contents",
   "toc_cell": false,
   "toc_position": {},
   "toc_section_display": true,
   "toc_window_display": false
  }
 },
 "nbformat": 4,
 "nbformat_minor": 2
}
