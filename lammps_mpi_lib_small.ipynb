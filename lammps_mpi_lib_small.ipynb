{
 "cells": [
  {
   "cell_type": "code",
   "execution_count": 1,
   "metadata": {
    "ExecuteTime": {
     "end_time": "2020-02-08T09:08:38.318741Z",
     "start_time": "2020-02-08T09:08:38.245373Z"
    }
   },
   "outputs": [],
   "source": [
    "import numpy as np"
   ]
  },
  {
   "cell_type": "code",
   "execution_count": 2,
   "metadata": {
    "ExecuteTime": {
     "end_time": "2020-02-08T09:08:39.669468Z",
     "start_time": "2020-02-08T09:08:38.319818Z"
    }
   },
   "outputs": [],
   "source": [
    "import pyiron"
   ]
  },
  {
   "cell_type": "code",
   "execution_count": 3,
   "metadata": {
    "ExecuteTime": {
     "end_time": "2020-02-08T09:08:39.678267Z",
     "start_time": "2020-02-08T09:08:39.671098Z"
    }
   },
   "outputs": [
    {
     "data": {
      "text/plain": [
       "'/u/janj/pyiron/plugins/pyiron/pyiron/__init__.py'"
      ]
     },
     "execution_count": 3,
     "metadata": {},
     "output_type": "execute_result"
    }
   ],
   "source": [
    "pyiron.__file__"
   ]
  },
  {
   "cell_type": "code",
   "execution_count": 4,
   "metadata": {
    "ExecuteTime": {
     "end_time": "2020-02-08T09:08:39.687962Z",
     "start_time": "2020-02-08T09:08:39.679419Z"
    }
   },
   "outputs": [],
   "source": [
    "from pyiron import Project"
   ]
  },
  {
   "cell_type": "code",
   "execution_count": 5,
   "metadata": {
    "ExecuteTime": {
     "end_time": "2020-02-08T09:08:40.525665Z",
     "start_time": "2020-02-08T09:08:39.688886Z"
    }
   },
   "outputs": [],
   "source": [
    "pr = Project('lib')"
   ]
  },
  {
   "cell_type": "code",
   "execution_count": 6,
   "metadata": {
    "ExecuteTime": {
     "end_time": "2020-02-08T09:08:41.000672Z",
     "start_time": "2020-02-08T09:08:40.526720Z"
    }
   },
   "outputs": [],
   "source": [
    "pr.remove_jobs(recursive=True)"
   ]
  },
  {
   "cell_type": "code",
   "execution_count": 7,
   "metadata": {
    "ExecuteTime": {
     "end_time": "2020-02-08T09:08:41.004831Z",
     "start_time": "2020-02-08T09:08:41.002387Z"
    }
   },
   "outputs": [],
   "source": [
    "pr.set_logging_level('DEBUG')"
   ]
  },
  {
   "cell_type": "code",
   "execution_count": 8,
   "metadata": {
    "ExecuteTime": {
     "end_time": "2020-02-08T09:08:41.142970Z",
     "start_time": "2020-02-08T09:08:41.007081Z"
    }
   },
   "outputs": [],
   "source": [
    "basis = pr.create_ase_bulk('Al', cubic=True).repeat([8,8,8])"
   ]
  },
  {
   "cell_type": "code",
   "execution_count": 9,
   "metadata": {
    "ExecuteTime": {
     "end_time": "2020-02-08T09:08:41.146884Z",
     "start_time": "2020-02-08T09:08:41.144382Z"
    }
   },
   "outputs": [
    {
     "data": {
      "text/plain": [
       "2048"
      ]
     },
     "execution_count": 9,
     "metadata": {},
     "output_type": "execute_result"
    }
   ],
   "source": [
    "len(basis)"
   ]
  },
  {
   "cell_type": "code",
   "execution_count": 10,
   "metadata": {
    "ExecuteTime": {
     "end_time": "2020-02-08T09:08:41.193294Z",
     "start_time": "2020-02-08T09:08:41.147801Z"
    }
   },
   "outputs": [],
   "source": [
    "job = pr.create_job(pr.job_type.Lammps, 'lmp')"
   ]
  },
  {
   "cell_type": "code",
   "execution_count": 11,
   "metadata": {
    "ExecuteTime": {
     "end_time": "2020-02-08T09:08:41.228980Z",
     "start_time": "2020-02-08T09:08:41.227227Z"
    }
   },
   "outputs": [],
   "source": [
    "job._enable_mpi_log = True"
   ]
  },
  {
   "cell_type": "code",
   "execution_count": 12,
   "metadata": {
    "ExecuteTime": {
     "end_time": "2020-02-08T09:08:41.237429Z",
     "start_time": "2020-02-08T09:08:41.229884Z"
    }
   },
   "outputs": [],
   "source": [
    "job.structure = basis"
   ]
  },
  {
   "cell_type": "code",
   "execution_count": 13,
   "metadata": {
    "ExecuteTime": {
     "end_time": "2020-02-08T09:08:41.248899Z",
     "start_time": "2020-02-08T09:08:41.238295Z"
    }
   },
   "outputs": [],
   "source": [
    "job.potential = 'Al_Mg_Mendelev_eam'"
   ]
  },
  {
   "cell_type": "code",
   "execution_count": 14,
   "metadata": {
    "ExecuteTime": {
     "end_time": "2020-02-08T09:08:41.251462Z",
     "start_time": "2020-02-08T09:08:41.249804Z"
    }
   },
   "outputs": [],
   "source": [
    "job.server.run_mode.interactive = True"
   ]
  },
  {
   "cell_type": "code",
   "execution_count": 15,
   "metadata": {
    "ExecuteTime": {
     "end_time": "2020-02-08T09:08:41.258539Z",
     "start_time": "2020-02-08T09:08:41.252273Z"
    }
   },
   "outputs": [
    {
     "data": {
      "text/plain": [
       "'interactive'"
      ]
     },
     "execution_count": 15,
     "metadata": {},
     "output_type": "execute_result"
    }
   ],
   "source": [
    "job.server.run_mode"
   ]
  },
  {
   "cell_type": "code",
   "execution_count": 16,
   "metadata": {
    "ExecuteTime": {
     "end_time": "2020-02-08T09:08:41.264739Z",
     "start_time": "2020-02-08T09:08:41.259371Z"
    }
   },
   "outputs": [],
   "source": [
    "job.server.cores = 2"
   ]
  },
  {
   "cell_type": "code",
   "execution_count": 17,
   "metadata": {
    "ExecuteTime": {
     "end_time": "2020-02-08T09:08:42.528806Z",
     "start_time": "2020-02-08T09:08:41.265611Z"
    }
   },
   "outputs": [
    {
     "name": "stderr",
     "output_type": "stream",
     "text": [
      "2020-02-08 10:08:41,287 - pyiron_log - INFO - run job: lmp id: None, status: initialized\n",
      "2020-02-08 10:08:41,497 - pyiron_log - INFO - run job: lmp id: 4891969, status: created\n",
      "2020-02-08 10:08:41,568 - pyiron_log - DEBUG - Lammps library: clear\n"
     ]
    },
    {
     "name": "stdout",
     "output_type": "stream",
     "text": [
      "The job lmp was saved and received the ID: 4891969\n"
     ]
    },
    {
     "name": "stderr",
     "output_type": "stream",
     "text": [
      "2020-02-08 10:08:41,952 - pyiron_log - DEBUG - Lammps library: units metal\n",
      "2020-02-08 10:08:41,960 - pyiron_log - DEBUG - Lammps library: dimension 3\n",
      "2020-02-08 10:08:41,968 - pyiron_log - DEBUG - Lammps library: boundary p p p\n",
      "2020-02-08 10:08:41,976 - pyiron_log - DEBUG - Lammps library: atom_style atomic\n",
      "2020-02-08 10:08:41,984 - pyiron_log - DEBUG - Lammps library: atom_modify map array\n",
      "2020-02-08 10:08:41,992 - pyiron_log - DEBUG - Lammps library: region 1 block 0.0 32.4 0.0 32.4 0.0 32.4 units box\n",
      "2020-02-08 10:08:42,000 - pyiron_log - DEBUG - Lammps library: create_box 2 1\n",
      "2020-02-08 10:08:42,008 - pyiron_log - DEBUG - Lammps library: mass   1 26.981538\n",
      "2020-02-08 10:08:42,015 - pyiron_log - DEBUG - Lammps library: mass   2 1.000000\n",
      "2020-02-08 10:08:42,023 - pyiron_log - DEBUG - Lammps library: create_atoms 1 random 2048 12345 1\n",
      "2020-02-08 10:08:42,047 - pyiron_log - DEBUG - Lammps library: change_box all remap\n",
      "2020-02-08 10:08:42,054 - pyiron_log - DEBUG - Lammps library: fix ensemble all nve\n",
      "2020-02-08 10:08:42,062 - pyiron_log - DEBUG - Lammps library: variable dumptime equal 100\n",
      "2020-02-08 10:08:42,070 - pyiron_log - DEBUG - Lammps library: variable thermotime equal 100\n",
      "2020-02-08 10:08:42,078 - pyiron_log - DEBUG - Lammps library: thermo_style custom step temp pe etotal pxx pxy pxz pyy pyz pzz vol\n",
      "2020-02-08 10:08:42,085 - pyiron_log - DEBUG - Lammps library: thermo_modify format float %20.15g\n",
      "2020-02-08 10:08:42,093 - pyiron_log - DEBUG - Lammps library: thermo ${thermotime}\n",
      "2020-02-08 10:08:42,101 - pyiron_log - DEBUG - Lammps library: pair_style eam/fs\n",
      "2020-02-08 10:08:42,109 - pyiron_log - DEBUG - Lammps library: pair_coeff * * /u/system/SLES12/soft/pyiron/dev/pyiron-resources-cmmc/lammps/potentials/NISTiprpy/2009--Mendelev-M-I--Al-Mg--LAMMPS--ipr1/Al-Mg.eam.fs Al Mg\n",
      "2020-02-08 10:08:42,232 - pyiron_log - DEBUG - Lammps library: run 0 \n"
     ]
    }
   ],
   "source": [
    "job.run()"
   ]
  },
  {
   "cell_type": "code",
   "execution_count": 18,
   "metadata": {
    "ExecuteTime": {
     "end_time": "2020-02-08T09:08:42.533860Z",
     "start_time": "2020-02-08T09:08:42.530309Z"
    }
   },
   "outputs": [
    {
     "data": {
      "text/plain": [
       "array([0., 0., 0.])"
      ]
     },
     "execution_count": 18,
     "metadata": {},
     "output_type": "execute_result"
    }
   ],
   "source": [
    "basis.positions[0]"
   ]
  },
  {
   "cell_type": "code",
   "execution_count": 19,
   "metadata": {
    "ExecuteTime": {
     "end_time": "2020-02-08T09:08:42.542387Z",
     "start_time": "2020-02-08T09:08:42.534754Z"
    }
   },
   "outputs": [],
   "source": [
    "basis.positions[0] += [0.1, 0.1, 0.1]"
   ]
  },
  {
   "cell_type": "code",
   "execution_count": 20,
   "metadata": {
    "ExecuteTime": {
     "end_time": "2020-02-08T09:08:42.551919Z",
     "start_time": "2020-02-08T09:08:42.543252Z"
    }
   },
   "outputs": [],
   "source": [
    "job.structure = basis"
   ]
  },
  {
   "cell_type": "code",
   "execution_count": 21,
   "metadata": {
    "ExecuteTime": {
     "end_time": "2020-02-08T09:08:42.582981Z",
     "start_time": "2020-02-08T09:08:42.552853Z"
    }
   },
   "outputs": [
    {
     "data": {
      "text/plain": [
       "array([[[3.24000000e+01, 1.98392781e-15, 1.98392781e-15],\n",
       "        [0.00000000e+00, 3.24000000e+01, 1.98392781e-15],\n",
       "        [0.00000000e+00, 0.00000000e+00, 3.24000000e+01]]])"
      ]
     },
     "execution_count": 21,
     "metadata": {},
     "output_type": "execute_result"
    }
   ],
   "source": [
    "job.output.cells"
   ]
  },
  {
   "cell_type": "code",
   "execution_count": 22,
   "metadata": {
    "ExecuteTime": {
     "end_time": "2020-02-08T09:08:42.607782Z",
     "start_time": "2020-02-08T09:08:42.584113Z"
    }
   },
   "outputs": [
    {
     "data": {
      "text/plain": [
       "array([[[ 0.   ,  0.   ,  0.   ],\n",
       "        [ 0.   ,  2.025,  2.025],\n",
       "        [ 2.025,  0.   ,  2.025],\n",
       "        ...,\n",
       "        [28.35 , 30.375, 30.375],\n",
       "        [30.375, 28.35 , 30.375],\n",
       "        [30.375, 30.375, 28.35 ]]])"
      ]
     },
     "execution_count": 22,
     "metadata": {},
     "output_type": "execute_result"
    }
   ],
   "source": [
    "job.output.positions"
   ]
  },
  {
   "cell_type": "code",
   "execution_count": 23,
   "metadata": {
    "ExecuteTime": {
     "end_time": "2020-02-08T09:08:43.088103Z",
     "start_time": "2020-02-08T09:08:42.609909Z"
    },
    "scrolled": true
   },
   "outputs": [
    {
     "name": "stderr",
     "output_type": "stream",
     "text": [
      "2020-02-08 10:08:42,610 - pyiron_log - INFO - run job: lmp id: 4891969, status: running\n",
      "2020-02-08 10:08:42,767 - pyiron_log - DEBUG - Generic library: cell changed!\n",
      "2020-02-08 10:08:42,769 - pyiron_log - DEBUG - Lammps library: change_box all x final 0 32.400000 y final 0 32.400000 z final 0 32.400000 units box\n",
      "2020-02-08 10:08:42,778 - pyiron_log - DEBUG - Generic library: positions changed!\n",
      "2020-02-08 10:08:42,785 - pyiron_log - DEBUG - Lammps library: change_box all remap\n",
      "2020-02-08 10:08:42,793 - pyiron_log - DEBUG - Lammps library: run 0 \n"
     ]
    }
   ],
   "source": [
    "job.run()"
   ]
  },
  {
   "cell_type": "code",
   "execution_count": 24,
   "metadata": {
    "ExecuteTime": {
     "end_time": "2020-02-08T09:08:43.113842Z",
     "start_time": "2020-02-08T09:08:43.089390Z"
    }
   },
   "outputs": [
    {
     "data": {
      "text/plain": [
       "array([-6984.92519058, -6984.8627293 ])"
      ]
     },
     "execution_count": 24,
     "metadata": {},
     "output_type": "execute_result"
    }
   ],
   "source": [
    "job.output.energy_tot"
   ]
  },
  {
   "cell_type": "code",
   "execution_count": 25,
   "metadata": {
    "ExecuteTime": {
     "end_time": "2020-02-08T09:08:43.334100Z",
     "start_time": "2020-02-08T09:08:43.115143Z"
    }
   },
   "outputs": [
    {
     "name": "stderr",
     "output_type": "stream",
     "text": [
      "2020-02-08 10:08:43,115 - pyiron_log - DEBUG - sql_query: {'project': 'janj/pyiron/projects/2020/2020-02-07-lammps-mpi-lib/lib/%'}\n"
     ]
    },
    {
     "data": {
      "text/html": [
       "<div>\n",
       "<style scoped>\n",
       "    .dataframe tbody tr th:only-of-type {\n",
       "        vertical-align: middle;\n",
       "    }\n",
       "\n",
       "    .dataframe tbody tr th {\n",
       "        vertical-align: top;\n",
       "    }\n",
       "\n",
       "    .dataframe thead th {\n",
       "        text-align: right;\n",
       "    }\n",
       "</style>\n",
       "<table border=\"1\" class=\"dataframe\">\n",
       "  <thead>\n",
       "    <tr style=\"text-align: right;\">\n",
       "      <th></th>\n",
       "      <th>id</th>\n",
       "      <th>status</th>\n",
       "      <th>chemicalformula</th>\n",
       "      <th>job</th>\n",
       "      <th>subjob</th>\n",
       "      <th>projectpath</th>\n",
       "      <th>project</th>\n",
       "      <th>timestart</th>\n",
       "      <th>timestop</th>\n",
       "      <th>totalcputime</th>\n",
       "      <th>computer</th>\n",
       "      <th>hamilton</th>\n",
       "      <th>hamversion</th>\n",
       "      <th>parentid</th>\n",
       "      <th>masterid</th>\n",
       "    </tr>\n",
       "  </thead>\n",
       "  <tbody>\n",
       "    <tr>\n",
       "      <th>0</th>\n",
       "      <td>4891969</td>\n",
       "      <td>running</td>\n",
       "      <td>Al2048</td>\n",
       "      <td>lmp</td>\n",
       "      <td>/lmp</td>\n",
       "      <td>/cmmc/u/</td>\n",
       "      <td>janj/pyiron/projects/2020/2020-02-07-lammps-mpi-lib/lib/</td>\n",
       "      <td>2020-02-08 10:08:41.373562</td>\n",
       "      <td>None</td>\n",
       "      <td>None</td>\n",
       "      <td>janj@cmti001#2</td>\n",
       "      <td>Lammps</td>\n",
       "      <td>0.1</td>\n",
       "      <td>None</td>\n",
       "      <td>None</td>\n",
       "    </tr>\n",
       "  </tbody>\n",
       "</table>\n",
       "</div>"
      ],
      "text/plain": [
       "        id   status chemicalformula  job subjob projectpath  \\\n",
       "0  4891969  running          Al2048  lmp   /lmp    /cmmc/u/   \n",
       "\n",
       "                                                    project  \\\n",
       "0  janj/pyiron/projects/2020/2020-02-07-lammps-mpi-lib/lib/   \n",
       "\n",
       "                   timestart timestop totalcputime        computer hamilton  \\\n",
       "0 2020-02-08 10:08:41.373562     None         None  janj@cmti001#2   Lammps   \n",
       "\n",
       "  hamversion parentid masterid  \n",
       "0        0.1     None     None  "
      ]
     },
     "execution_count": 25,
     "metadata": {},
     "output_type": "execute_result"
    }
   ],
   "source": [
    "pr.job_table()"
   ]
  },
  {
   "cell_type": "code",
   "execution_count": 26,
   "metadata": {
    "ExecuteTime": {
     "end_time": "2020-02-08T09:08:43.860904Z",
     "start_time": "2020-02-08T09:08:43.335004Z"
    }
   },
   "outputs": [],
   "source": [
    "job.interactive_close()"
   ]
  },
  {
   "cell_type": "code",
   "execution_count": null,
   "metadata": {},
   "outputs": [],
   "source": []
  }
 ],
 "metadata": {
  "kernelspec": {
   "display_name": "Python 3",
   "language": "python",
   "name": "python3"
  },
  "language_info": {
   "codemirror_mode": {
    "name": "ipython",
    "version": 3
   },
   "file_extension": ".py",
   "mimetype": "text/x-python",
   "name": "python",
   "nbconvert_exporter": "python",
   "pygments_lexer": "ipython3",
   "version": "3.7.6"
  },
  "toc": {
   "base_numbering": 1,
   "nav_menu": {},
   "number_sections": true,
   "sideBar": true,
   "skip_h1_title": false,
   "title_cell": "Table of Contents",
   "title_sidebar": "Contents",
   "toc_cell": false,
   "toc_position": {},
   "toc_section_display": true,
   "toc_window_display": false
  }
 },
 "nbformat": 4,
 "nbformat_minor": 2
}
