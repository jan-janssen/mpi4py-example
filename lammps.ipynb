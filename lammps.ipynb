{
 "cells": [
  {
   "cell_type": "code",
   "execution_count": 1,
   "metadata": {},
   "outputs": [],
   "source": [
    "import os"
   ]
  },
  {
   "cell_type": "code",
   "execution_count": 2,
   "metadata": {},
   "outputs": [],
   "source": [
    "import subprocess"
   ]
  },
  {
   "cell_type": "code",
   "execution_count": 3,
   "metadata": {},
   "outputs": [],
   "source": [
    "melt_in_str = \"\"\"\\\n",
    "# 3d Lennard-Jones melt\n",
    "\n",
    "units\t\tlj\n",
    "atom_style\tatomic\n",
    "\n",
    "lattice\t\tfcc 0.8442\n",
    "region\t\tbox block 0 10 0 10 0 10\n",
    "create_box\t1 box\n",
    "create_atoms\t1 box\n",
    "mass\t\t1 1.0\n",
    "\n",
    "velocity\tall create 3.0 87287\n",
    "\n",
    "pair_style\tlj/cut 2.5\n",
    "pair_coeff\t1 1 1.0 1.0 2.5\n",
    "\n",
    "neighbor\t0.3 bin\n",
    "neigh_modify\tevery 20 delay 0 check no\n",
    "\n",
    "fix\t\t1 all nve\n",
    "\n",
    "#dump\t\tid all atom 50 dump.melt\n",
    "\n",
    "#dump\t\t2 all image 25 image.*.jpg type type &\n",
    "#\t\taxes yes 0.8 0.02 view 60 -30\n",
    "#dump_modify\t2 pad 3\n",
    "\n",
    "#dump\t\t3 all movie 25 movie.mpg type type &\n",
    "#\t\taxes yes 0.8 0.02 view 60 -30\n",
    "#dump_modify\t3 pad 3\n",
    "\n",
    "thermo\t\t50\n",
    "run\t\t250\"\"\""
   ]
  },
  {
   "cell_type": "code",
   "execution_count": 4,
   "metadata": {},
   "outputs": [],
   "source": [
    "melt_py_str = \"\"\"\\\n",
    "from mpi4py import MPI\n",
    "from lammps import PyLammps\n",
    "\n",
    "L = PyLammps()\n",
    "L.file('in.melt')\n",
    "\n",
    "\n",
    "if MPI.COMM_WORLD.rank == 0:\n",
    "    pe = L.eval(\"pe\")\n",
    "    print(\"Potential Energy:\", pe)\"\"\""
   ]
  },
  {
   "cell_type": "code",
   "execution_count": 5,
   "metadata": {},
   "outputs": [],
   "source": [
    "if not os.path.exists('in.melt'):\n",
    "    with open('in.melt', 'w') as f:\n",
    "        f.writelines(melt_in_str)"
   ]
  },
  {
   "cell_type": "code",
   "execution_count": 6,
   "metadata": {},
   "outputs": [],
   "source": [
    "if not os.path.exists('melt.py'):\n",
    "    with open('melt.py', 'w') as f:\n",
    "        f.writelines(melt_py_str)"
   ]
  },
  {
   "cell_type": "code",
   "execution_count": 7,
   "metadata": {},
   "outputs": [
    {
     "data": {
      "text/plain": [
       "['LAMMPS (7 Aug 2019)',\n",
       " 'OMP_NUM_THREADS environment is not set. Defaulting to 1 thread. (src/comm.cpp:93)',\n",
       " '  using 1 OpenMP thread(s) per MPI task',\n",
       " 'Lattice spacing in x,y,z = 1.6796 1.6796 1.6796',\n",
       " 'Created orthogonal box = (0 0 0) to (16.796 16.796 16.796)',\n",
       " '  1 by 2 by 2 MPI processor grid',\n",
       " 'Created 4000 atoms',\n",
       " '  create_atoms CPU = 0.000712872 secs',\n",
       " 'Neighbor list info ...',\n",
       " '  update every 20 steps, delay 0 steps, check no',\n",
       " '  max neighbors/atom: 2000, page size: 100000',\n",
       " '  master list distance cutoff = 2.8',\n",
       " '  ghost atom cutoff = 2.8',\n",
       " '  binsize = 1.4, bins = 12 12 12',\n",
       " '  1 neighbor lists, perpetual/occasional/extra = 1 0 0',\n",
       " '  (1) pair lj/cut, perpetual',\n",
       " '      attributes: half, newton on',\n",
       " '      pair build: half/bin/atomonly/newton',\n",
       " '      stencil: half/bin/3d/newton',\n",
       " '      bin: standard',\n",
       " 'Setting up Verlet run ...',\n",
       " '  Unit style    : lj',\n",
       " '  Current step  : 0',\n",
       " '  Time step     : 0.005',\n",
       " 'Per MPI rank memory allocation (min/avg/max) = 2.706 | 2.706 | 2.706 Mbytes',\n",
       " 'Step Temp E_pair E_mol TotEng Press ',\n",
       " '       0            3   -6.7733681            0   -2.2744931   -3.7033504 ',\n",
       " '      50    1.6754119   -4.7947589            0   -2.2822693    5.6615925 ',\n",
       " '     100    1.6503357    -4.756014            0   -2.2811293    5.8050524 ',\n",
       " '     150    1.6596605   -4.7699432            0   -2.2810749    5.7830138 ',\n",
       " '     200    1.6371874   -4.7365462            0   -2.2813789    5.9246674 ',\n",
       " '     250    1.6323462   -4.7292021            0   -2.2812949    5.9762238 ',\n",
       " 'Loop time of 1.29944 on 4 procs for 250 steps with 4000 atoms',\n",
       " '',\n",
       " 'Performance: 83112.777 tau/day, 192.391 timesteps/s',\n",
       " '24.4% CPU use with 4 MPI tasks x 1 OpenMP threads',\n",
       " '',\n",
       " 'MPI task timing breakdown:',\n",
       " 'Section |  min time  |  avg time  |  max time  |%varavg| %total',\n",
       " '---------------------------------------------------------------',\n",
       " 'Pair    | 0.32572    | 0.54423    | 0.66075    |  17.5 | 41.88',\n",
       " 'Neigh   | 0.024343   | 0.026182   | 0.027663   |   0.8 |  2.01',\n",
       " 'Comm    | 0.59195    | 0.68526    | 0.86718    |  13.2 | 52.73',\n",
       " 'Output  | 0.00021696 | 0.00037241 | 0.00079727 |   0.0 |  0.03',\n",
       " 'Modify  | 0.0033598  | 0.0036838  | 0.00389    |   0.4 |  0.28',\n",
       " 'Other   |            | 0.03971    |            |       |  3.06',\n",
       " '',\n",
       " 'Nlocal:    1000 ave 1010 max 982 min',\n",
       " 'Histogram: 1 0 0 0 0 0 1 0 0 2',\n",
       " 'Nghost:    2703.75 ave 2713 max 2689 min',\n",
       " 'Histogram: 1 0 0 0 0 0 0 2 0 1',\n",
       " 'Neighs:    37915.5 ave 39239 max 36193 min',\n",
       " 'Histogram: 1 0 0 0 0 1 1 0 0 1',\n",
       " '',\n",
       " 'Total # of neighbors = 151662',\n",
       " 'Ave neighs/atom = 37.9155',\n",
       " 'Neighbor list builds = 12',\n",
       " 'Dangerous builds not checked',\n",
       " 'LAMMPS output is captured by PyLammps wrapper',\n",
       " 'LAMMPS output is captured by PyLammps wrapper',\n",
       " 'LAMMPS output is captured by PyLammps wrapper',\n",
       " 'LAMMPS output is captured by PyLammps wrapper',\n",
       " 'Potential Energy: -4.72920211172879',\n",
       " 'Total wall time: 0:00:01',\n",
       " '']"
      ]
     },
     "execution_count": 7,
     "metadata": {},
     "output_type": "execute_result"
    }
   ],
   "source": [
    "subprocess.check_output('mpiexec -n 4 python melt.py', shell=True, universal_newlines=True ).split('\\n')"
   ]
  },
  {
   "cell_type": "code",
   "execution_count": null,
   "metadata": {},
   "outputs": [],
   "source": []
  }
 ],
 "metadata": {
  "kernelspec": {
   "display_name": "Python 3",
   "language": "python",
   "name": "python3"
  },
  "language_info": {
   "codemirror_mode": {
    "name": "ipython",
    "version": 3
   },
   "file_extension": ".py",
   "mimetype": "text/x-python",
   "name": "python",
   "nbconvert_exporter": "python",
   "pygments_lexer": "ipython3",
   "version": "3.7.3"
  }
 },
 "nbformat": 4,
 "nbformat_minor": 2
}
