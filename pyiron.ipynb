{
 "cells": [
  {
   "cell_type": "code",
   "execution_count": 1,
   "metadata": {},
   "outputs": [],
   "source": [
    "from pyiron import Project"
   ]
  },
  {
   "cell_type": "code",
   "execution_count": 2,
   "metadata": {},
   "outputs": [],
   "source": [
    "pr = Project('test')"
   ]
  },
  {
   "cell_type": "code",
   "execution_count": 3,
   "metadata": {},
   "outputs": [],
   "source": [
    "pr.remove_jobs(recursive=True)"
   ]
  },
  {
   "cell_type": "code",
   "execution_count": 4,
   "metadata": {},
   "outputs": [],
   "source": [
    "structure = pr.create_structure('Fe', 'bcc', 2.78)"
   ]
  },
  {
   "cell_type": "code",
   "execution_count": 5,
   "metadata": {},
   "outputs": [],
   "source": [
    "job = pr.create_job(pr.job_type.Lammps, 'lmp')"
   ]
  },
  {
   "cell_type": "code",
   "execution_count": 6,
   "metadata": {},
   "outputs": [],
   "source": [
    "job.structure = structure"
   ]
  },
  {
   "cell_type": "code",
   "execution_count": 7,
   "metadata": {},
   "outputs": [],
   "source": [
    "job.potential = 'Fe_C_Becquart_eam'"
   ]
  },
  {
   "cell_type": "code",
   "execution_count": 8,
   "metadata": {},
   "outputs": [],
   "source": [
    "job.server.run_mode.interactive = True"
   ]
  },
  {
   "cell_type": "code",
   "execution_count": 9,
   "metadata": {},
   "outputs": [],
   "source": [
    "job.server.cores = 2"
   ]
  },
  {
   "cell_type": "code",
   "execution_count": 10,
   "metadata": {},
   "outputs": [
    {
     "name": "stdout",
     "output_type": "stream",
     "text": [
      "The job lmp was saved and received the ID: 1\n"
     ]
    }
   ],
   "source": [
    "job.run()"
   ]
  },
  {
   "cell_type": "code",
   "execution_count": 11,
   "metadata": {},
   "outputs": [],
   "source": [
    "job.interactive_close()"
   ]
  },
  {
   "cell_type": "code",
   "execution_count": 12,
   "metadata": {},
   "outputs": [],
   "source": [
    "job.decompress()"
   ]
  },
  {
   "cell_type": "code",
   "execution_count": 13,
   "metadata": {},
   "outputs": [
    {
     "data": {
      "text/plain": [
       "['LAMMPS (7 Aug 2019)\\n',\n",
       " 'OMP_NUM_THREADS environment is not set. Defaulting to 1 thread. (src/comm.cpp:93)\\n',\n",
       " '  using 1 OpenMP thread(s) per MPI task\\n',\n",
       " 'clear\\n',\n",
       " 'OMP_NUM_THREADS environment is not set. Defaulting to 1 thread. (src/comm.cpp:93)\\n',\n",
       " '  using 1 OpenMP thread(s) per MPI task\\n',\n",
       " 'units metal\\n',\n",
       " 'dimension 3\\n',\n",
       " 'boundary p p p\\n',\n",
       " 'atom_style atomic\\n',\n",
       " 'atom_modify map array\\n',\n",
       " 'region 1 block 0.0 2.78 0.0 2.78 0.0 2.78 units box\\n',\n",
       " 'create_box 2 1\\n',\n",
       " 'Created orthogonal box = (0 0 0) to (2.78 2.78 2.78)\\n',\n",
       " '  1 by 1 by 2 MPI processor grid\\n',\n",
       " 'mass   1 55.845000\\n',\n",
       " 'mass   2 1.000000\\n',\n",
       " 'create_atoms 1 random 2 12345 1\\n',\n",
       " 'Created 2 atoms\\n',\n",
       " '  create_atoms CPU = 3.40939e-05 secs\\n',\n",
       " 'change_box all remap\\n',\n",
       " 'fix ensemble all nve\\n',\n",
       " 'variable dumptime equal 100\\n',\n",
       " 'thermo_style custom step temp pe etotal pxx pxy pxz pyy pyz pzz vol\\n',\n",
       " 'thermo_modify format float %20.15g\\n',\n",
       " 'thermo 100\\n',\n",
       " 'pair_style eam/alloy\\n',\n",
       " 'pair_coeff * * /home/jovyan/pyiron/resources/lammps/potentials/becquart_potential/Fe-C-Bec07.eam Fe C\\n',\n",
       " 'run 0 \\n',\n",
       " 'Neighbor list info ...\\n',\n",
       " '  update every 1 steps, delay 10 steps, check yes\\n',\n",
       " '  max neighbors/atom: 2000, page size: 100000\\n',\n",
       " '  master list distance cutoff = 7.3\\n',\n",
       " '  ghost atom cutoff = 7.3\\n',\n",
       " '  binsize = 3.65, bins = 1 1 1\\n',\n",
       " '  1 neighbor lists, perpetual/occasional/extra = 1 0 0\\n',\n",
       " '  (1) pair eam/alloy, perpetual\\n',\n",
       " '      attributes: half, newton on\\n',\n",
       " '      pair build: half/bin/atomonly/newton\\n',\n",
       " '      stencil: half/bin/3d/newton\\n',\n",
       " '      bin: standard\\n',\n",
       " 'WARNING: Proc sub-domain size < neighbor skin, could lead to lost atoms (src/domain.cpp:931)\\n',\n",
       " 'Per MPI rank memory allocation (min/avg/max) = 3.017 | 3.017 | 3.017 Mbytes\\n',\n",
       " 'Step Temp PotEng TotEng Pxx Pxy Pxz Pyy Pyz Pzz Volume \\n',\n",
       " '       0                    0    -7.94165503572981    -7.94165503572981      157196.25128282 8.27915854693717e-12 2.89770549142801e-11      157196.25128282 8.27915854693717e-12      157196.25128282            21.484952 \\n',\n",
       " 'Loop time of 2.38419e-06 on 2 procs for 0 steps with 2 atoms\\n',\n",
       " '\\n',\n",
       " '209.7% CPU use with 2 MPI tasks x 1 OpenMP threads\\n',\n",
       " '\\n',\n",
       " 'MPI task timing breakdown:\\n',\n",
       " 'Section |  min time  |  avg time  |  max time  |%varavg| %total\\n',\n",
       " '---------------------------------------------------------------\\n',\n",
       " 'Pair    | 0          | 0          | 0          |   0.0 |  0.00\\n',\n",
       " 'Neigh   | 0          | 0          | 0          |   0.0 |  0.00\\n',\n",
       " 'Comm    | 0          | 0          | 0          |   0.0 |  0.00\\n',\n",
       " 'Output  | 0          | 0          | 0          |   0.0 |  0.00\\n',\n",
       " 'Modify  | 0          | 0          | 0          |   0.0 |  0.00\\n',\n",
       " 'Other   |            | 2.384e-06  |            |       |100.00\\n',\n",
       " '\\n',\n",
       " 'Nlocal:    1 ave 1 max 1 min\\n',\n",
       " 'Histogram: 2 0 0 0 0 0 0 0 0 0\\n',\n",
       " 'Nghost:    509 ave 509 max 509 min\\n',\n",
       " 'Histogram: 2 0 0 0 0 0 0 0 0 0\\n',\n",
       " 'Neighs:    84 ave 99 max 69 min\\n',\n",
       " 'Histogram: 1 0 0 0 0 0 0 0 0 1\\n',\n",
       " '\\n',\n",
       " 'Total # of neighbors = 168\\n',\n",
       " 'Ave neighs/atom = 84\\n',\n",
       " 'Neighbor list builds = 0\\n',\n",
       " 'Dangerous builds = 0\\n',\n",
       " 'Total wall time: 0:00:00\\n']"
      ]
     },
     "execution_count": 13,
     "metadata": {},
     "output_type": "execute_result"
    }
   ],
   "source": [
    "job['log.lammps']"
   ]
  },
  {
   "cell_type": "code",
   "execution_count": null,
   "metadata": {},
   "outputs": [],
   "source": []
  }
 ],
 "metadata": {
  "kernelspec": {
   "display_name": "Python 3",
   "language": "python",
   "name": "python3"
  },
  "language_info": {
   "codemirror_mode": {
    "name": "ipython",
    "version": 3
   },
   "file_extension": ".py",
   "mimetype": "text/x-python",
   "name": "python",
   "nbconvert_exporter": "python",
   "pygments_lexer": "ipython3",
   "version": "3.7.3"
  }
 },
 "nbformat": 4,
 "nbformat_minor": 2
}
